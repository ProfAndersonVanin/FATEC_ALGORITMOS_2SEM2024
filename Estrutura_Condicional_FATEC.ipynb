{
  "nbformat": 4,
  "nbformat_minor": 0,
  "metadata": {
    "colab": {
      "provenance": [],
      "authorship_tag": "ABX9TyMLUPw8OYzZlbNRfg85u0qG",
      "include_colab_link": true
    },
    "kernelspec": {
      "name": "python3",
      "display_name": "Python 3"
    },
    "language_info": {
      "name": "python"
    }
  },
  "cells": [
    {
      "cell_type": "markdown",
      "metadata": {
        "id": "view-in-github",
        "colab_type": "text"
      },
      "source": [
        "<a href=\"https://colab.research.google.com/github/ProfAndersonVanin/FATEC_ALGORITMOS_2SEM2024/blob/main/Estrutura_Condicional_FATEC.ipynb\" target=\"_parent\"><img src=\"https://colab.research.google.com/assets/colab-badge.svg\" alt=\"Open In Colab\"/></a>"
      ]
    },
    {
      "cell_type": "markdown",
      "source": [
        "# **ESTRUTURAS CONDICIONAIS EM PYTHON**"
      ],
      "metadata": {
        "id": "oYtbsCJCIcLe"
      }
    },
    {
      "cell_type": "markdown",
      "source": [
        "# 1. Introdução às Estruturas Condicionais\n",
        "- Conceito e finalidade.\n",
        "- Como as estruturas condicionais permitem a tomada de decisões em um programa\n"
      ],
      "metadata": {
        "id": "1_BuSh45Inx_"
      }
    },
    {
      "cell_type": "markdown",
      "source": [
        "# 2. Sintaxe do if, elif, e else\n",
        "- Estrutura básica:\n"
      ],
      "metadata": {
        "id": "1-H5a9OpItH-"
      }
    },
    {
      "cell_type": "code",
      "source": [
        "# ...\n",
        "\n",
        "numero = int(input(\"Digite um número\"))\n",
        "\n",
        "if numero<10:\n",
        "  print(\"É menor que 10\")\n",
        "elif numero > 10:\n",
        "  print(\"É maior que 10\")\n",
        "else:\n",
        "  print(\"É igual a 10\")\n"
      ],
      "metadata": {
        "colab": {
          "base_uri": "https://localhost:8080/"
        },
        "id": "rp16N6M1I7km",
        "outputId": "e93a1840-738d-4bfd-fce4-87e74200318b"
      },
      "execution_count": 9,
      "outputs": [
        {
          "output_type": "stream",
          "name": "stdout",
          "text": [
            "Digite um número10\n",
            "É igual a 10\n"
          ]
        }
      ]
    },
    {
      "cell_type": "markdown",
      "source": [
        "- Exemplos práticos"
      ],
      "metadata": {
        "id": "WBnlfo1YI43u"
      }
    },
    {
      "cell_type": "code",
      "execution_count": 15,
      "metadata": {
        "colab": {
          "base_uri": "https://localhost:8080/"
        },
        "id": "5077BjrGISc2",
        "outputId": "8cf934b5-a922-4f9a-fc44-a32a8b4ba9e7"
      },
      "outputs": [
        {
          "output_type": "stream",
          "name": "stdout",
          "text": [
            "Oi Alunos\n"
          ]
        }
      ],
      "source": [
        "# ...\n",
        "nome = \"jjjjj\"\n",
        "\n",
        "#nome = nome.lower()\n",
        "if nome.lower() == \"anderson\":\n",
        "  print(\"Oi professor\")\n",
        "else:\n",
        "  print(\"Oi Alunos\")\n"
      ]
    },
    {
      "cell_type": "code",
      "source": [
        "# Outro exemplo utilizando operadores lógicos\n",
        "\n",
        "idade = 18\n",
        "habilitacao = True\n",
        "\n",
        "if idade>=18 and habilitacao:\n",
        "  print(\"PODE DIRIGIR\")\n",
        "else:\n",
        "  print(\"NÃO PODE DIRIGIR\")"
      ],
      "metadata": {
        "colab": {
          "base_uri": "https://localhost:8080/"
        },
        "id": "eT_5zEeyUUZx",
        "outputId": "ece06778-75b1-4f7a-d2c6-e86d5fcef31f"
      },
      "execution_count": 18,
      "outputs": [
        {
          "output_type": "stream",
          "name": "stdout",
          "text": [
            "PODE DIRIGIR\n"
          ]
        }
      ]
    },
    {
      "cell_type": "markdown",
      "source": [
        "# 3. Operadores de Comparação e Lógicos\n",
        "- Revisão dos operadores: `==, !=, <, >, <=, >=`.\n",
        "- Revisão dos operadores lógicos: `and, or, not`.\n"
      ],
      "metadata": {
        "id": "qahQSKscJBX9"
      }
    },
    {
      "cell_type": "code",
      "source": [
        "# ..."
      ],
      "metadata": {
        "id": "pw7QvR20JHYn"
      },
      "execution_count": null,
      "outputs": []
    },
    {
      "cell_type": "markdown",
      "source": [
        "# 4. Exemplos Práticos\n",
        "- Exemplo 1: Verificar se um número é par ou ímpar.\n"
      ],
      "metadata": {
        "id": "-4n8_zIpJLJu"
      }
    },
    {
      "cell_type": "code",
      "source": [
        "# ...\n",
        "numero = 3\n",
        "if numero%2 == 0:\n",
        "  print(\"ESTE NÚMERO É PAR\")\n",
        "else:\n",
        "  print(\"ESTE NÚMERO É ÍMPAR\")\n",
        "\n",
        "print(\"Fim do Programa\")"
      ],
      "metadata": {
        "colab": {
          "base_uri": "https://localhost:8080/"
        },
        "id": "2S7TBXN5JN0O",
        "outputId": "b9d79627-1de2-441a-9054-fc173572b36d"
      },
      "execution_count": 19,
      "outputs": [
        {
          "output_type": "stream",
          "name": "stdout",
          "text": [
            "ESTE NÚMERO É ÍMPAR\n",
            "Fim do Programa\n"
          ]
        }
      ]
    },
    {
      "cell_type": "markdown",
      "source": [
        "- Exemplo 2: Verificar se um aluno foi aprovado, reprovado ou se está em recuperação."
      ],
      "metadata": {
        "id": "76ln5wUUJRju"
      }
    },
    {
      "cell_type": "code",
      "source": [
        "# ...\n",
        "media = float(input(\"Digite a média (entre 0 e 10)\"))\n",
        "\n",
        "if media<0 or media>10:\n",
        "  print(\"Valor inválido\")\n",
        "else:\n",
        "  if media>=6:\n",
        "    print(\"APROVADO\")\n",
        "  else:\n",
        "    if media<4:\n",
        "      print(\"REPROVADO\")\n",
        "    else:\n",
        "      print(\"RECUPERAÇÃO\")\n",
        "\n"
      ],
      "metadata": {
        "colab": {
          "base_uri": "https://localhost:8080/",
          "height": 108
        },
        "id": "7hOV-f5mJT18",
        "outputId": "249d133a-6b81-4076-faeb-9eeafb102a41"
      },
      "execution_count": 36,
      "outputs": [
        {
          "output_type": "error",
          "ename": "IndentationError",
          "evalue": "expected an indented block after 'if' statement on line 7 (<ipython-input-36-2fd86593a42c>, line 8)",
          "traceback": [
            "\u001b[0;36m  File \u001b[0;32m\"<ipython-input-36-2fd86593a42c>\"\u001b[0;36m, line \u001b[0;32m8\u001b[0m\n\u001b[0;31m    print(\"APROVADO\")\u001b[0m\n\u001b[0m    ^\u001b[0m\n\u001b[0;31mIndentationError\u001b[0m\u001b[0;31m:\u001b[0m expected an indented block after 'if' statement on line 7\n"
          ]
        }
      ]
    },
    {
      "cell_type": "code",
      "source": [],
      "metadata": {
        "id": "Am3XWJU4ZX-E"
      },
      "execution_count": null,
      "outputs": []
    },
    {
      "cell_type": "markdown",
      "source": [
        "- Exemplo 3: Identificar se uma pessoa pode votar."
      ],
      "metadata": {
        "id": "VFm8-28wJXuH"
      }
    },
    {
      "cell_type": "code",
      "source": [
        "# ...\n",
        "nome = input(\"Digite seu nome: \")\n",
        "idade = int(input(\"Digite sua idade: \"))\n",
        "\n",
        "if idade<16:\n",
        "  print(\"Cresça primeiro!!!!Depois tire o título e vote!\")\n",
        "else:\n",
        "  titulo = int(input(\"Digite 1 se possuir titulo ou 0 se não tiver: \"))\n",
        "  if titulo != 1:\n",
        "    print(\"OLÁ,\",nome,\" VOCÊ NÃO PODE VOTAR!\")\n",
        "  elif idade>70 or (idade>=16 and idade <18):\n",
        "    print(\"OLÁ,\",nome,\" VOTO OPCIONAL\")\n",
        "  else:\n",
        "    print(\"OLÁ,\",nome,\" VOTO OBRIGATÓRIO\")"
      ],
      "metadata": {
        "colab": {
          "base_uri": "https://localhost:8080/"
        },
        "id": "39BjBkBzJZzn",
        "outputId": "66a5835d-8a40-4cd3-f43d-d3b0112fe927"
      },
      "execution_count": 35,
      "outputs": [
        {
          "output_type": "stream",
          "name": "stdout",
          "text": [
            "Digite seu nome: dsfsdf\n",
            "Digite sua idade: 80\n",
            "Digite 1 se possuir titulo ou 0 se não tiver: 1\n",
            "OLÁ, dsfsdf  VOTO OPCIONAL\n"
          ]
        }
      ]
    },
    {
      "cell_type": "markdown",
      "source": [
        "# **Lista de Exercícios:**"
      ],
      "metadata": {
        "id": "OILQbqT6Jg6d"
      }
    },
    {
      "cell_type": "markdown",
      "source": [
        "1.\tCrie um programa que peça ao usuário para inserir um número e verifique se é positivo, negativo ou zero."
      ],
      "metadata": {
        "id": "OhajSa8-Jiwv"
      }
    },
    {
      "cell_type": "markdown",
      "source": [
        "2.\tEscreva um código que verifique a idade de uma pessoa e imprima se ela é menor de idade, maior de idade ou idosa."
      ],
      "metadata": {
        "id": "MGRULY1uJljH"
      }
    },
    {
      "cell_type": "markdown",
      "source": [
        "3.\tFaça um programa que peça a nota de um aluno e informe se ele foi aprovado (nota >= 7), de recuperação (5 <= nota < 7) ou reprovado (nota < 5)."
      ],
      "metadata": {
        "id": "hSC1gejzJn-X"
      }
    },
    {
      "cell_type": "markdown",
      "source": [
        "4.\tCrie um sistema que determine se uma pessoa pode tirar carteira de motorista (idade mínima de 18 anos)."
      ],
      "metadata": {
        "id": "dLmLWyOrJqzX"
      }
    },
    {
      "cell_type": "markdown",
      "source": [
        "5.\tDesenvolva um programa que verifique se um ano é bissexto."
      ],
      "metadata": {
        "id": "MvuFRPn8Jtoo"
      }
    },
    {
      "cell_type": "markdown",
      "source": [
        "Como determinar se um ano é bissexto\n",
        "Para determinar se um ano é bissexto, execute estas etapas:\n",
        "\n",
        "1. Se o ano for uniformemente divisível por 4, vá para a etapa 2. Caso contrário, vá para a etapa 5.\n",
        "2. Se o ano for uniformemente divisível por 100, vá para a etapa 3. Caso contrário, vá para a etapa 4.\n",
        "3. Se o ano for uniformemente divisível por 400, vá para a etapa 4. Caso contrário, vá para a etapa 5.\n",
        "4. O ano é bissexto (tem 366 dias).\n",
        "5. O ano não é um ano bissexto (tem 365 dias)."
      ],
      "metadata": {
        "id": "2efg4JHxlM7A"
      }
    },
    {
      "cell_type": "code",
      "source": [
        "# DICA: Para saber se um ano é bissexto, basta verificar se é divisível por 4.\n",
        "# Por exemplo, 1988, 1992 e 1996 são anos bissextos.\n",
        "\n",
        "# No entanto, para evitar que o calendário fique muito diferente do ano solar,\n",
        "# os anos terminados em 00 (múltiplos de 100) só são bissextos se o resultado\n",
        "# da divisão por 400 for exato.\n",
        "\n",
        "ano = 1600\n",
        "resto = ano % 4\n",
        "resto"
      ],
      "metadata": {
        "colab": {
          "base_uri": "https://localhost:8080/"
        },
        "id": "G3X9_VT_jlZi",
        "outputId": "40602800-7bdd-43e7-cd83-71a5795d0ae0"
      },
      "execution_count": 45,
      "outputs": [
        {
          "output_type": "execute_result",
          "data": {
            "text/plain": [
              "0"
            ]
          },
          "metadata": {},
          "execution_count": 45
        }
      ]
    },
    {
      "cell_type": "markdown",
      "source": [
        "6.\tEscreva um código que peça ao usuário para inserir uma letra e informe se ela é uma vogal ou uma consoante."
      ],
      "metadata": {
        "id": "_jS31FX3JvrG"
      }
    },
    {
      "cell_type": "markdown",
      "source": [
        "7.\tCrie um programa que peça o nome de um mês e informe quantos dias ele tem.\n"
      ],
      "metadata": {
        "id": "O0Wv5NCkJ1Sj"
      }
    },
    {
      "cell_type": "markdown",
      "source": [
        "8.\tDesenvolva um sistema que determine se um número é múltiplo de 3 e 5."
      ],
      "metadata": {
        "id": "EEY-66tcJ3Rc"
      }
    },
    {
      "cell_type": "markdown",
      "source": [
        "9.\tFaça um código que peça ao usuário seu salário e calcule o imposto a ser pago (faixas: até `R$ 1.000`, isento; `R$ 1.001` a `R$ 3.000`, 10%; acima de `R$ 3.000`, 20%)."
      ],
      "metadata": {
        "id": "9Su10vicJ4wq"
      }
    },
    {
      "cell_type": "markdown",
      "source": [
        "10.\tCrie um programa que pergunte a temperatura em graus Celsius e informe se está frio (abaixo de 15°C), ameno (15°C a 25°C) ou quente (acima de 25°C).\n"
      ],
      "metadata": {
        "id": "p_W20MikJ6iU"
      }
    },
    {
      "cell_type": "markdown",
      "source": [
        "11.\tEscreva um código que determine se um número é primo.\n"
      ],
      "metadata": {
        "id": "luRj3PH1J8F7"
      }
    },
    {
      "cell_type": "markdown",
      "source": [
        "12.\tFaça um programa que peça o ano de nascimento e informe a classe de idade (0-12 anos, 13-17 anos, 18-59 anos, 60 anos ou mais).\n"
      ],
      "metadata": {
        "id": "cHgBQKKNJ9YC"
      }
    },
    {
      "cell_type": "markdown",
      "source": [
        "13.\tCrie um sistema que verifique se um triângulo é equilátero, isósceles ou escaleno com base nos comprimentos dos lados."
      ],
      "metadata": {
        "id": "HPQnV-dZJ-mL"
      }
    },
    {
      "cell_type": "markdown",
      "source": [
        "# **DESAFIOS**"
      ],
      "metadata": {
        "id": "KO5c2G87J_ki"
      }
    },
    {
      "cell_type": "markdown",
      "source": [
        "14.\tDesenvolva um programa que peça ao usuário um número e informe a tabela de multiplicação desse número.\n",
        "\n"
      ],
      "metadata": {
        "id": "Tf6ANOFHKCSq"
      }
    },
    {
      "cell_type": "markdown",
      "source": [
        "15.\tEscreva um código que verifique se uma senha é válida (mínimo de 8 caracteres, pelo menos uma letra e um número)."
      ],
      "metadata": {
        "id": "IVM3IesrKFie"
      }
    }
  ]
}