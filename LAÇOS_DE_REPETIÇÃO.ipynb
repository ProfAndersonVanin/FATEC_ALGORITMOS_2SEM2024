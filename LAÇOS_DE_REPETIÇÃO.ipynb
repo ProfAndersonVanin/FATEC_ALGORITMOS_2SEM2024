{
  "nbformat": 4,
  "nbformat_minor": 0,
  "metadata": {
    "colab": {
      "provenance": [],
      "authorship_tag": "ABX9TyNer+Sf5Cnqfhh07f5RHHex",
      "include_colab_link": true
    },
    "kernelspec": {
      "name": "python3",
      "display_name": "Python 3"
    },
    "language_info": {
      "name": "python"
    }
  },
  "cells": [
    {
      "cell_type": "markdown",
      "metadata": {
        "id": "view-in-github",
        "colab_type": "text"
      },
      "source": [
        "<a href=\"https://colab.research.google.com/github/ProfAndersonVanin/FATEC_ALGORITMOS_2SEM2024/blob/main/LA%C3%87OS_DE_REPETI%C3%87%C3%83O.ipynb\" target=\"_parent\"><img src=\"https://colab.research.google.com/assets/colab-badge.svg\" alt=\"Open In Colab\"/></a>"
      ]
    },
    {
      "cell_type": "markdown",
      "source": [
        "# **LAÇOS DE REPETIÇÃO: FOR E WHILE**"
      ],
      "metadata": {
        "id": "_lE8D7cDSXGi"
      }
    },
    {
      "cell_type": "markdown",
      "source": [
        "**Situação exemplo:**\n",
        "\n",
        "> Escreva na tela 1000 vezes FATEC MAUÁ\n",
        "\n"
      ],
      "metadata": {
        "id": "BEGpUVnJS7x7"
      }
    },
    {
      "cell_type": "code",
      "source": [
        "print('FATEC MAUÁ')\n",
        "print('FATEC MAUÁ')\n",
        "print('FATEC MAUÁ')\n",
        "print('FATEC MAUÁ')\n",
        "print('FATEC MAUÁ')\n",
        "print('FATEC MAUÁ')\n",
        "print('......')"
      ],
      "metadata": {
        "colab": {
          "base_uri": "https://localhost:8080/"
        },
        "id": "hTvDQ1BnTLq1",
        "outputId": "90d99adf-956b-4423-bdb0-5af4a49b7765"
      },
      "execution_count": 1,
      "outputs": [
        {
          "output_type": "stream",
          "name": "stdout",
          "text": [
            "FATEC MAUÁ\n",
            "FATEC MAUÁ\n",
            "FATEC MAUÁ\n",
            "FATEC MAUÁ\n",
            "FATEC MAUÁ\n",
            "FATEC MAUÁ\n",
            "......\n"
          ]
        }
      ]
    },
    {
      "cell_type": "markdown",
      "source": [
        "## Dica:\n",
        "*   Quando você **sabe exatamente o número de vezes** da repetição usar **FOR**\n",
        "*   Quando o **número de repetições vai depender de uma determinada condição** não conhecida, **usar WHILE**\n",
        "\n"
      ],
      "metadata": {
        "id": "XKhSTt6eSfOh"
      }
    },
    {
      "cell_type": "code",
      "execution_count": 2,
      "metadata": {
        "colab": {
          "base_uri": "https://localhost:8080/"
        },
        "id": "eXRwBtQpSUOr",
        "outputId": "2328bed9-becb-4f7a-9bea-3aaa611bb5d4"
      },
      "outputs": [
        {
          "output_type": "stream",
          "name": "stdout",
          "text": [
            "0\n",
            "1\n",
            "2\n",
            "3\n",
            "4\n"
          ]
        }
      ],
      "source": [
        "# Contador de 5 posições\n",
        "for i in range(5):\n",
        "  print(i)"
      ]
    },
    {
      "cell_type": "code",
      "source": [
        "# Contador de 5 posições\n",
        "for i in range(1,21,2):\n",
        "  print(i)"
      ],
      "metadata": {
        "colab": {
          "base_uri": "https://localhost:8080/"
        },
        "id": "1cUoKaFBWT0Y",
        "outputId": "7d36af7b-83c3-4127-c664-7e77cf64e437"
      },
      "execution_count": 6,
      "outputs": [
        {
          "output_type": "stream",
          "name": "stdout",
          "text": [
            "1\n",
            "3\n",
            "5\n",
            "7\n",
            "9\n",
            "11\n",
            "13\n",
            "15\n",
            "17\n",
            "19\n"
          ]
        }
      ]
    },
    {
      "cell_type": "code",
      "source": [
        "for letra in 'ANDERSON':\n",
        "  print(letra)"
      ],
      "metadata": {
        "colab": {
          "base_uri": "https://localhost:8080/"
        },
        "id": "8uiYuKAkXIYl",
        "outputId": "aee45502-e653-42db-be6c-6425fd268f0c"
      },
      "execution_count": 7,
      "outputs": [
        {
          "output_type": "stream",
          "name": "stdout",
          "text": [
            "A\n",
            "N\n",
            "D\n",
            "E\n",
            "R\n",
            "S\n",
            "O\n",
            "N\n"
          ]
        }
      ]
    },
    {
      "cell_type": "code",
      "source": [
        "nome = 'ANDERSON'\n",
        "nome[3]"
      ],
      "metadata": {
        "colab": {
          "base_uri": "https://localhost:8080/",
          "height": 35
        },
        "id": "cfcVihmVXkEl",
        "outputId": "37d050d1-9ce7-413f-bc04-7f92de0d3211"
      },
      "execution_count": 8,
      "outputs": [
        {
          "output_type": "execute_result",
          "data": {
            "text/plain": [
              "'E'"
            ],
            "application/vnd.google.colaboratory.intrinsic+json": {
              "type": "string"
            }
          },
          "metadata": {},
          "execution_count": 8
        }
      ]
    },
    {
      "cell_type": "code",
      "source": [
        "email = 'anderson@gmail.com'"
      ],
      "metadata": {
        "id": "ExLRUtSaYEf9"
      },
      "execution_count": 9,
      "outputs": []
    },
    {
      "cell_type": "code",
      "source": [
        "achei = '@' in email\n",
        "achei"
      ],
      "metadata": {
        "colab": {
          "base_uri": "https://localhost:8080/"
        },
        "id": "zgMtulyjYOMc",
        "outputId": "e14732f3-0a9c-4603-daaa-dd66fe12fdbe"
      },
      "execution_count": 11,
      "outputs": [
        {
          "output_type": "execute_result",
          "data": {
            "text/plain": [
              "True"
            ]
          },
          "metadata": {},
          "execution_count": 11
        }
      ]
    },
    {
      "cell_type": "code",
      "source": [
        "if '@' in email:\n",
        "  print(\"ACHEI\")\n",
        "else:\n",
        "  print(\"NÃO ACHEI O @\")"
      ],
      "metadata": {
        "colab": {
          "base_uri": "https://localhost:8080/"
        },
        "id": "KMxxkZPiYwb0",
        "outputId": "44a462e5-35a6-445b-c81e-130cee68a407"
      },
      "execution_count": 12,
      "outputs": [
        {
          "output_type": "stream",
          "name": "stdout",
          "text": [
            "ACHEI\n"
          ]
        }
      ]
    },
    {
      "cell_type": "code",
      "source": [
        "# Definir um valor inicial\n",
        "# Definir um valor final\n",
        "inicio = int(input(\"Digite o num inicial \"))\n",
        "fim = int(input(\"Digite o num final \"))\n",
        "for banana in range(inicio,fim+1):\n",
        "  print(banana)"
      ],
      "metadata": {
        "colab": {
          "base_uri": "https://localhost:8080/"
        },
        "id": "mQnakccBZK-7",
        "outputId": "0b42df3c-3bdf-4568-f5ff-c46f59da9782"
      },
      "execution_count": 14,
      "outputs": [
        {
          "name": "stdout",
          "output_type": "stream",
          "text": [
            "Digite o num inicial 10\n",
            "Digite o num final 4\n"
          ]
        }
      ]
    },
    {
      "cell_type": "code",
      "source": [
        "inicio = int(input(\"Digite o num inicial \"))\n",
        "fim = int(input(\"Digite o num final \"))\n",
        "\n",
        "if inicio<fim:\n",
        "  for banana in range(inicio,fim+1):\n",
        "    print(banana)\n",
        "else:\n",
        "  for banana in range(fim,inicio+1):\n",
        "    print(banana)"
      ],
      "metadata": {
        "colab": {
          "base_uri": "https://localhost:8080/"
        },
        "id": "HhwYUbcCZyLC",
        "outputId": "0236ad85-6eb2-4977-c141-6803e9bddc77"
      },
      "execution_count": 16,
      "outputs": [
        {
          "output_type": "stream",
          "name": "stdout",
          "text": [
            "Digite o num inicial 5\n",
            "Digite o num final 5\n",
            "5\n"
          ]
        }
      ]
    },
    {
      "cell_type": "code",
      "source": [
        "inicio = int(input(\"Digite o num inicial \"))\n",
        "fim = int(input(\"Digite o num final \"))\n",
        "\n",
        "if inicio<fim:\n",
        "  for banana in range(inicio,fim+1):\n",
        "    print(banana)\n",
        "elif fim>inicio:\n",
        "  for banana in range(fim,inicio+1):\n",
        "    print(banana)\n",
        "else:\n",
        "  print('Numeros são iguais')"
      ],
      "metadata": {
        "colab": {
          "base_uri": "https://localhost:8080/"
        },
        "id": "2-iq2yBzZwFC",
        "outputId": "228e6605-2a63-4d02-c2e2-d0a2886e66bd"
      },
      "execution_count": 17,
      "outputs": [
        {
          "output_type": "stream",
          "name": "stdout",
          "text": [
            "Digite o num inicial 5\n",
            "Digite o num final 5\n",
            "Numeros são iguais\n"
          ]
        }
      ]
    },
    {
      "cell_type": "markdown",
      "source": [
        "**WHILE**"
      ],
      "metadata": {
        "id": "D3DYtL-rbqhh"
      }
    },
    {
      "cell_type": "code",
      "source": [
        "x = 1\n",
        "while x < 6:\n",
        "  print(x)\n",
        "  x = x + 2"
      ],
      "metadata": {
        "colab": {
          "base_uri": "https://localhost:8080/"
        },
        "id": "74gHQvSobsZp",
        "outputId": "c2d2d2e1-f2c0-42db-8679-5509b084f61e"
      },
      "execution_count": 24,
      "outputs": [
        {
          "output_type": "stream",
          "name": "stdout",
          "text": [
            "1\n",
            "3\n",
            "5\n"
          ]
        }
      ]
    },
    {
      "cell_type": "code",
      "source": [
        "x = 10\n",
        "while x >= 0:\n",
        "  print(x)\n",
        "  x -= 1"
      ],
      "metadata": {
        "colab": {
          "base_uri": "https://localhost:8080/"
        },
        "id": "ZGhIJs_jdS6i",
        "outputId": "9264b735-a120-49a9-eafa-c7414c26d705"
      },
      "execution_count": 25,
      "outputs": [
        {
          "output_type": "stream",
          "name": "stdout",
          "text": [
            "10\n",
            "9\n",
            "8\n",
            "7\n",
            "6\n",
            "5\n",
            "4\n",
            "3\n",
            "2\n",
            "1\n",
            "0\n"
          ]
        }
      ]
    },
    {
      "cell_type": "code",
      "source": [
        "# IMPRIMA OS IMPARES NO INTERVALO DE 0 A 100\n",
        "x = 7\n",
        "while x <= 100:\n",
        "  if x % 2 == 1:\n",
        "    print(x)\n",
        "  x += 1"
      ],
      "metadata": {
        "colab": {
          "base_uri": "https://localhost:8080/"
        },
        "id": "NEerhAwvdxNY",
        "outputId": "3e52730f-0299-4805-f903-a95591e72ea9"
      },
      "execution_count": 29,
      "outputs": [
        {
          "output_type": "stream",
          "name": "stdout",
          "text": [
            "7\n",
            "9\n",
            "11\n",
            "13\n",
            "15\n",
            "17\n",
            "19\n",
            "21\n",
            "23\n",
            "25\n",
            "27\n",
            "29\n",
            "31\n",
            "33\n",
            "35\n",
            "37\n",
            "39\n",
            "41\n",
            "43\n",
            "45\n",
            "47\n",
            "49\n",
            "51\n",
            "53\n",
            "55\n",
            "57\n",
            "59\n",
            "61\n",
            "63\n",
            "65\n",
            "67\n",
            "69\n",
            "71\n",
            "73\n",
            "75\n",
            "77\n",
            "79\n",
            "81\n",
            "83\n",
            "85\n",
            "87\n",
            "89\n",
            "91\n",
            "93\n",
            "95\n",
            "97\n",
            "99\n"
          ]
        }
      ]
    },
    {
      "cell_type": "code",
      "source": [
        "resposta = input('Digite sua senha: ')\n",
        "while resposta != '123':\n",
        "  print(\"Senha incorreta.\")\n",
        "  resposta = input('Digite a senha novamente: ')\n",
        "\n",
        "print('Ok validado')"
      ],
      "metadata": {
        "colab": {
          "base_uri": "https://localhost:8080/"
        },
        "id": "8K24RjTFe4rA",
        "outputId": "3892aade-2217-4fe4-8c42-6edaf639721f"
      },
      "execution_count": 30,
      "outputs": [
        {
          "output_type": "stream",
          "name": "stdout",
          "text": [
            "Digite sua senha: er9t08ewr908t098rewt\n",
            "Senha incorreta.\n",
            "Digite a senha novamente: 5986984539860935\n",
            "Senha incorreta.\n",
            "Digite a senha novamente: 59\n",
            "Senha incorreta.\n",
            "Digite a senha novamente: 123\n",
            "Ok validado\n"
          ]
        }
      ]
    },
    {
      "cell_type": "code",
      "source": [
        "resposta = input('Digite sua senha: ')\n",
        "tentativas = 1\n",
        "while resposta != '123':\n",
        "  print(\"Senha incorreta.\")\n",
        "  if tentativas>2:\n",
        "    print('Senha bloqueada')\n",
        "    break\n",
        "  tentativas += 1\n",
        "  resposta = input('Digite a senha novamente: ')\n",
        "\n",
        "print('Ok validado')"
      ],
      "metadata": {
        "colab": {
          "base_uri": "https://localhost:8080/"
        },
        "id": "MHhOlm-7fvoa",
        "outputId": "d0e24b77-7ad4-465e-f10f-9aae81c5237f"
      },
      "execution_count": 32,
      "outputs": [
        {
          "output_type": "stream",
          "name": "stdout",
          "text": [
            "Digite sua senha: rett4ete\n",
            "Senha incorreta.\n",
            "Digite a senha novamente: 35464536546\n",
            "Senha incorreta.\n",
            "Digite a senha novamente: 35654645\n",
            "Senha incorreta.\n",
            "Senha bloqueada\n",
            "Ok validado\n"
          ]
        }
      ]
    },
    {
      "cell_type": "code",
      "source": [
        "numero = int(input('Digite um número: '))\n",
        "soma = numero\n",
        "while numero != 5 :\n",
        "  numero = int(input('Digite um número: '))\n",
        "  soma += numero\n",
        "\n",
        "print(soma)"
      ],
      "metadata": {
        "colab": {
          "base_uri": "https://localhost:8080/"
        },
        "id": "VwZwJcdhg8OJ",
        "outputId": "d9291fa6-335d-4498-fde5-81540bf99f0a"
      },
      "execution_count": 36,
      "outputs": [
        {
          "output_type": "stream",
          "name": "stdout",
          "text": [
            "Digite um número: 1\n",
            "Digite um número: 2\n",
            "Digite um número: 1\n",
            "Digite um número: 3\n",
            "Digite um número: 5\n",
            "12\n"
          ]
        }
      ]
    },
    {
      "cell_type": "code",
      "source": [
        "numero = 0\n",
        "soma = 0"
      ],
      "metadata": {
        "id": "hy8omM9WjnO3"
      },
      "execution_count": 38,
      "outputs": []
    },
    {
      "cell_type": "code",
      "source": [
        "while True:\n",
        "  numero = int(input('Digite um número: '))\n",
        "  if numero == 5:\n",
        "    break\n",
        "  soma += numero\n",
        "\n",
        "print(soma)"
      ],
      "metadata": {
        "colab": {
          "base_uri": "https://localhost:8080/"
        },
        "id": "iktpHfyZjVVp",
        "outputId": "1b6e9f2e-dc14-4bda-939b-7ca2fef7df02"
      },
      "execution_count": 40,
      "outputs": [
        {
          "output_type": "stream",
          "name": "stdout",
          "text": [
            "Digite um número: 1\n",
            "Digite um número: 2\n",
            "Digite um número: 1\n",
            "Digite um número: 3\n",
            "Digite um número: 5\n",
            "7\n"
          ]
        }
      ]
    },
    {
      "cell_type": "code",
      "source": [
        "num = int(input(\"Digite um número: \"))\n",
        "total_resto = 0\n",
        "for x in range (1,num+1):\n",
        "  #resto = num % x\n",
        "  if num % x == 0:\n",
        "    total_resto += 1\n",
        "  #print('Resto => ',resto)\n",
        "  #print(x)\n",
        "\n",
        "if total_resto == 2:\n",
        "  print(\"O numero \",num,\" é PRIMO\")\n",
        "else:\n",
        "  print(\"O numero \",num,\" não é PRIMO\")"
      ],
      "metadata": {
        "colab": {
          "base_uri": "https://localhost:8080/"
        },
        "id": "J5G6dYZrm_FE",
        "outputId": "58e4bea6-7a3c-4e20-d984-349f728374c5"
      },
      "execution_count": 54,
      "outputs": [
        {
          "output_type": "stream",
          "name": "stdout",
          "text": [
            "Digite um número: 15\n",
            "O numero  15  não é PRIMO\n"
          ]
        }
      ]
    },
    {
      "cell_type": "code",
      "source": [
        "a = int(input(\"Digite um número: \"))\n",
        "for i in range(2,a):\n",
        "  if a % i == 0:\n",
        "    break\n",
        "  print(\"O numero\", a, \"é primo\")"
      ],
      "metadata": {
        "colab": {
          "base_uri": "https://localhost:8080/"
        },
        "id": "qAO-UsyRprNr",
        "outputId": "8877c872-f2c1-41bf-e76f-9b428904f132"
      },
      "execution_count": 57,
      "outputs": [
        {
          "output_type": "stream",
          "name": "stdout",
          "text": [
            "Digite um número: 15\n",
            "O numero 15 é primo\n"
          ]
        }
      ]
    }
  ]
}