{
  "nbformat": 4,
  "nbformat_minor": 0,
  "metadata": {
    "colab": {
      "provenance": [],
      "authorship_tag": "ABX9TyOfHPdlL6B3186dmcKatMXA",
      "include_colab_link": true
    },
    "kernelspec": {
      "name": "python3",
      "display_name": "Python 3"
    },
    "language_info": {
      "name": "python"
    }
  },
  "cells": [
    {
      "cell_type": "markdown",
      "metadata": {
        "id": "view-in-github",
        "colab_type": "text"
      },
      "source": [
        "<a href=\"https://colab.research.google.com/github/ProfAndersonVanin/FATEC_ALGORITMOS_2SEM2024/blob/main/AULA_05_11_24_FATEC.ipynb\" target=\"_parent\"><img src=\"https://colab.research.google.com/assets/colab-badge.svg\" alt=\"Open In Colab\"/></a>"
      ]
    },
    {
      "cell_type": "markdown",
      "source": [
        "# **REVISÃO AULA PASSADA - LAÇOS FOR E WHILE**"
      ],
      "metadata": {
        "id": "4GFL_EBpwhRI"
      }
    },
    {
      "cell_type": "code",
      "execution_count": null,
      "metadata": {
        "id": "uJgTBR6xwTrL"
      },
      "outputs": [],
      "source": [
        "# Exemplo de laço for\n",
        "for i in range(5):\n",
        "    print(\"Executando for, iteração:\", i)"
      ]
    },
    {
      "cell_type": "code",
      "source": [
        "# Exemplo de laço while\n",
        "contador = 0\n",
        "while contador < 5:\n",
        "    print(\"Executando while, contador:\", contador)\n",
        "    contador += 1"
      ],
      "metadata": {
        "id": "xXcg44sGwr4J"
      },
      "execution_count": null,
      "outputs": []
    },
    {
      "cell_type": "markdown",
      "source": [
        "# **Funções Criadas pelo Usuário**"
      ],
      "metadata": {
        "id": "wasUGLyXwmS4"
      }
    },
    {
      "cell_type": "markdown",
      "source": [
        "As funções são blocos de código que realizam tarefas específicas e podem ser reutilizados. Criamos uma função usando a palavra-chave def, seguida pelo nome da função e seus parâmetros."
      ],
      "metadata": {
        "id": "7xSjAwajw3SQ"
      }
    },
    {
      "cell_type": "code",
      "source": [
        "def saudacao(nome):\n",
        "    return f\"Olá, {nome}!\"\n",
        "\n",
        "print(saudacao(\"Maria\"))"
      ],
      "metadata": {
        "id": "pKyog3cWw6ZB"
      },
      "execution_count": null,
      "outputs": []
    },
    {
      "cell_type": "markdown",
      "source": [
        "# **Exercícios Propostos (Com Resolução)**"
      ],
      "metadata": {
        "id": "VSgGBzhOw-WA"
      }
    },
    {
      "cell_type": "markdown",
      "source": [
        "1. Imprimir Números de 1 a 10"
      ],
      "metadata": {
        "id": "JSdtOKL5xBeo"
      }
    },
    {
      "cell_type": "code",
      "source": [
        "for i in range(1, 11):\n",
        "    print(i)"
      ],
      "metadata": {
        "id": "fbIkMKrrxAww"
      },
      "execution_count": null,
      "outputs": []
    },
    {
      "cell_type": "markdown",
      "source": [
        "2. Soma dos Números Pares até 20"
      ],
      "metadata": {
        "id": "7ZJD9fTGxGrh"
      }
    },
    {
      "cell_type": "code",
      "source": [
        "soma = 0\n",
        "for i in range(1, 21):\n",
        "    if i % 2 == 0:\n",
        "        soma += i\n",
        "print(\"Soma dos pares até 20:\", soma)\n"
      ],
      "metadata": {
        "id": "YxsIe5hexLKx"
      },
      "execution_count": null,
      "outputs": []
    },
    {
      "cell_type": "markdown",
      "source": [
        "3. Contagem Regressiva"
      ],
      "metadata": {
        "id": "x1X8JhpCxOMq"
      }
    },
    {
      "cell_type": "code",
      "source": [
        "for i in range(10, 0, -1):\n",
        "    print(i)\n",
        "print(\"Lançar!\")"
      ],
      "metadata": {
        "id": "_mnmEBg5xNaj"
      },
      "execution_count": null,
      "outputs": []
    },
    {
      "cell_type": "markdown",
      "source": [
        "4. Cálculo de Fatorial"
      ],
      "metadata": {
        "id": "ucM2Xbl7xSEq"
      }
    },
    {
      "cell_type": "code",
      "source": [
        "def fatorial(n):\n",
        "    resultado = 1\n",
        "    for i in range(1, n + 1):\n",
        "        resultado *= i\n",
        "    return resultado\n",
        "\n",
        "print(fatorial(5))  # Exemplo de uso"
      ],
      "metadata": {
        "id": "cQP-Gz20xVAr"
      },
      "execution_count": null,
      "outputs": []
    },
    {
      "cell_type": "markdown",
      "source": [
        "5. Verificar Número Primo"
      ],
      "metadata": {
        "id": "cT05XsNdxZ4z"
      }
    },
    {
      "cell_type": "code",
      "source": [
        "def eh_primo(n):\n",
        "    if n < 2:\n",
        "        return False\n",
        "    for i in range(2, int(n ** 0.5) + 1):\n",
        "        if n % i == 0:\n",
        "            return False\n",
        "    return True\n",
        "\n",
        "print(eh_primo(7))  # Exemplo de uso"
      ],
      "metadata": {
        "id": "ant5m9k9xbka"
      },
      "execution_count": null,
      "outputs": []
    },
    {
      "cell_type": "markdown",
      "source": [
        "6. Soma dos Elementos de uma Lista"
      ],
      "metadata": {
        "id": "-DKrm1eAxhBt"
      }
    },
    {
      "cell_type": "code",
      "source": [
        "def soma_lista(lista):\n",
        "    soma = 0\n",
        "    for elemento in lista:\n",
        "        soma += elemento\n",
        "    return soma\n",
        "\n",
        "print(soma_lista([1, 2, 3, 4, 5]))  # Exemplo de uso"
      ],
      "metadata": {
        "id": "Ck9eJYMtxiy2"
      },
      "execution_count": null,
      "outputs": []
    },
    {
      "cell_type": "markdown",
      "source": [
        "7. Tabuada"
      ],
      "metadata": {
        "id": "2lFwup_Sxl-F"
      }
    },
    {
      "cell_type": "code",
      "source": [
        "def tabuada(n):\n",
        "    for i in range(1, 11):\n",
        "        print(f\"{n} x {i} = {n * i}\")\n",
        "\n",
        "tabuada(7)  # Exemplo de uso"
      ],
      "metadata": {
        "id": "Ser-61VUxoeT"
      },
      "execution_count": null,
      "outputs": []
    },
    {
      "cell_type": "markdown",
      "source": [
        "8. Contagem de Vogais"
      ],
      "metadata": {
        "id": "gswnjWSAxrb8"
      }
    },
    {
      "cell_type": "code",
      "source": [
        "def conta_vogais(palavra):\n",
        "    vogais = \"aeiou\"\n",
        "    contador = 0\n",
        "    for letra in palavra.lower():\n",
        "        if letra in vogais:\n",
        "            contador += 1\n",
        "    return contador\n",
        "\n",
        "print(conta_vogais(\"Python\"))  # Exemplo de uso"
      ],
      "metadata": {
        "id": "hvTrX9R-xs6U"
      },
      "execution_count": null,
      "outputs": []
    },
    {
      "cell_type": "markdown",
      "source": [
        "9. Sequência de Fibonacci"
      ],
      "metadata": {
        "id": "f0_THc4mx0A8"
      }
    },
    {
      "cell_type": "code",
      "source": [
        "def fibonacci(n):\n",
        "    sequencia = [0, 1]\n",
        "    while len(sequencia) < n:\n",
        "        sequencia.append(sequencia[-1] + sequencia[-2])\n",
        "    return sequencia[:n]\n",
        "\n",
        "print(fibonacci(10))  # Exemplo de uso\n"
      ],
      "metadata": {
        "id": "HAIe6Lznx1Jl"
      },
      "execution_count": null,
      "outputs": []
    },
    {
      "cell_type": "markdown",
      "source": [
        "10. Converter Temperatura"
      ],
      "metadata": {
        "id": "tBZUkFD4x50k"
      }
    },
    {
      "cell_type": "code",
      "source": [
        "def celsius_para_fahrenheit(c):\n",
        "    return c * 9 / 5 + 32\n",
        "\n",
        "print(celsius_para_fahrenheit(25))  # Exemplo de uso"
      ],
      "metadata": {
        "id": "wcArAO1Px7g9"
      },
      "execution_count": null,
      "outputs": []
    },
    {
      "cell_type": "markdown",
      "source": [
        "# **Exercícios para Prática dos Alunos**"
      ],
      "metadata": {
        "id": "M7qtveYHx-qX"
      }
    },
    {
      "cell_type": "markdown",
      "source": [
        "## 1. Quadrado dos Números de 1 a 10\n",
        "\n",
        "Crie uma função que exibe o quadrado dos números de 1 a 10."
      ],
      "metadata": {
        "id": "EupGD7UqyA4e"
      }
    },
    {
      "cell_type": "code",
      "source": [
        "# SEU CÓDIGO AQUI ..."
      ],
      "metadata": {
        "id": "K777ynkzyGak"
      },
      "execution_count": null,
      "outputs": []
    },
    {
      "cell_type": "markdown",
      "source": [
        "## 2. Produto dos Números de uma Lista\n",
        "\n",
        "Crie uma função que recebe uma lista e retorna o produto dos seus elementos."
      ],
      "metadata": {
        "id": "nHhBAvsuyN1v"
      }
    },
    {
      "cell_type": "code",
      "source": [
        "# SEU CÓDIGO AQUI ..."
      ],
      "metadata": {
        "id": "DMuoPW9o0oy2"
      },
      "execution_count": null,
      "outputs": []
    },
    {
      "cell_type": "markdown",
      "source": [
        "## 3. Cálculo da Média\n",
        "\n",
        "Escreva uma função que recebe uma lista de números e retorna a média aritmética."
      ],
      "metadata": {
        "id": "r_BNuBu40Owt"
      }
    },
    {
      "cell_type": "code",
      "source": [
        "# SEU CÓDIGO AQUI ..."
      ],
      "metadata": {
        "id": "xQ2RWHwL0peE"
      },
      "execution_count": null,
      "outputs": []
    },
    {
      "cell_type": "markdown",
      "source": [
        "## 4. Verificar Palíndromo\n",
        "\n",
        "Crie uma função que recebe uma palavra e verifica se é um palíndromo (lê-se igual de trás para frente)."
      ],
      "metadata": {
        "id": "x3sX8XRy0P-N"
      }
    },
    {
      "cell_type": "code",
      "source": [
        "# SEU CÓDIGO AQUI ..."
      ],
      "metadata": {
        "id": "08UkaKVb0p5d"
      },
      "execution_count": null,
      "outputs": []
    },
    {
      "cell_type": "markdown",
      "source": [
        "## 5. Números Ímpares entre 1 e 20\n",
        "\n",
        "Escreva uma função que retorna uma lista com todos os números ímpares entre 1 e 20."
      ],
      "metadata": {
        "id": "499uAnNc0Rns"
      }
    },
    {
      "cell_type": "code",
      "source": [
        "# SEU CÓDIGO AQUI ..."
      ],
      "metadata": {
        "id": "1jDDP8wE0qR9"
      },
      "execution_count": null,
      "outputs": []
    },
    {
      "cell_type": "markdown",
      "source": [
        "## 6. Número Mínimo e Máximo em uma Lista\n",
        "\n",
        "Crie uma função que retorna o menor e o maior número de uma lista."
      ],
      "metadata": {
        "id": "r0WNyuYB0R6M"
      }
    },
    {
      "cell_type": "code",
      "source": [
        "# SEU CÓDIGO AQUI ..."
      ],
      "metadata": {
        "id": "_p_CSbEE0qvk"
      },
      "execution_count": null,
      "outputs": []
    }
  ]
}