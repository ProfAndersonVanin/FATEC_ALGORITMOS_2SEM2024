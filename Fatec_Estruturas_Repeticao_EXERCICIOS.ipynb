{
  "nbformat": 4,
  "nbformat_minor": 0,
  "metadata": {
    "colab": {
      "provenance": [],
      "include_colab_link": true
    },
    "kernelspec": {
      "name": "python3",
      "display_name": "Python 3"
    },
    "language_info": {
      "name": "python"
    }
  },
  "cells": [
    {
      "cell_type": "markdown",
      "metadata": {
        "id": "view-in-github",
        "colab_type": "text"
      },
      "source": [
        "<a href=\"https://colab.research.google.com/github/ProfAndersonVanin/FATEC_ALGORITMOS_2SEM2024/blob/main/Fatec_Estruturas_Repeticao_EXERCICIOS.ipynb\" target=\"_parent\"><img src=\"https://colab.research.google.com/assets/colab-badge.svg\" alt=\"Open In Colab\"/></a>"
      ]
    },
    {
      "cell_type": "markdown",
      "source": [
        "1- Faça um programa que peça uma nota, entre zero e dez. Mostre uma mensagem caso o valor seja inválido e continue pedindo até que o usuário informe um valor válido."
      ],
      "metadata": {
        "id": "4BHkhl1eO0V4"
      }
    },
    {
      "cell_type": "code",
      "source": [
        "# SEU CÓDIGO AQUI..."
      ],
      "metadata": {
        "id": "4aR8eWjyO20P"
      },
      "execution_count": null,
      "outputs": []
    },
    {
      "cell_type": "markdown",
      "source": [
        "2- Faça um programa que leia um nome de usuário e a sua senha e não aceite a senha igual ao nome do usuário, mostrando uma mensagem de erro e voltando a pedir as informações."
      ],
      "metadata": {
        "id": "8xLNyx3vO6__"
      }
    },
    {
      "cell_type": "code",
      "source": [
        "# SEU CÓDIGO AQUI..."
      ],
      "metadata": {
        "id": "x21IQbJqPDtI"
      },
      "execution_count": null,
      "outputs": []
    },
    {
      "cell_type": "markdown",
      "source": [
        "3- Faça um programa que leia e valide as seguintes informações:\n",
        "*   Nome: maior que 3 caracteres;\n",
        "*   Idade: entre 0 e 150;\n",
        "*   Salário: maior que zero;\n",
        "*   Sexo: 'f' ou 'm';\n",
        "*   Estado Civil: 's', 'c', 'v', 'd';\n",
        "\n",
        "Use a função **len(string)** para saber o tamanho de um texto (número de caracteres).\n"
      ],
      "metadata": {
        "id": "l24MnOXFPG7n"
      }
    },
    {
      "cell_type": "code",
      "source": [
        "# SEU CÓDIGO AQUI..."
      ],
      "metadata": {
        "id": "w28p4gJ8Pc2b"
      },
      "execution_count": null,
      "outputs": []
    },
    {
      "cell_type": "markdown",
      "source": [
        "4- Supondo que a população de um país A seja da ordem de 80000 habitantes com uma taxa anual de crescimento de 3% e que a população de B seja 200000 habitantes com uma taxa de crescimento de 1.5%. Faça um programa que calcule e escreva o número de anos necessários para que a população do país A ultrapasse ou iguale a população do país B, mantidas as taxas de crescimento."
      ],
      "metadata": {
        "id": "8WpDFV0uP1DX"
      }
    },
    {
      "cell_type": "code",
      "source": [
        "# SEU CÓDIGO AQUI..."
      ],
      "metadata": {
        "id": "Qszzk46vzGoS"
      },
      "execution_count": null,
      "outputs": []
    },
    {
      "cell_type": "markdown",
      "source": [
        "5- Altere o programa anterior permitindo ao usuário informar as populações e as taxas de crescimento iniciais. Valide a entrada e permita repetir a operação."
      ],
      "metadata": {
        "id": "GaMiWS9DP-zf"
      }
    },
    {
      "cell_type": "code",
      "source": [
        "# SEU CÓDIGO AQUI..."
      ],
      "metadata": {
        "id": "ibOa9dT0P5iD"
      },
      "execution_count": null,
      "outputs": []
    },
    {
      "cell_type": "markdown",
      "source": [
        "6- Faça um programa que imprima na tela os números de 1 a 20, um abaixo do outro. Depois modifique o programa para que ele mostre os números um ao lado do outro."
      ],
      "metadata": {
        "id": "HF_S1CYWQG1v"
      }
    },
    {
      "cell_type": "code",
      "source": [
        "# SEU CÓDIGO AQUI..."
      ],
      "metadata": {
        "id": "ns_qNgR2zIPJ"
      },
      "execution_count": null,
      "outputs": []
    },
    {
      "cell_type": "markdown",
      "source": [
        "7- Faça um programa que leia 5 números e informe o maior número."
      ],
      "metadata": {
        "id": "v7UrGR9MQLnW"
      }
    },
    {
      "cell_type": "code",
      "source": [
        "# SEU CÓDIGO AQUI..."
      ],
      "metadata": {
        "id": "MOwOObu6QI5a"
      },
      "execution_count": null,
      "outputs": []
    },
    {
      "cell_type": "markdown",
      "source": [
        "8- Faça um programa que leia 5 números e informe a soma e a média dos números."
      ],
      "metadata": {
        "id": "B-7qr6k3QQsg"
      }
    },
    {
      "cell_type": "code",
      "source": [
        "# SEU CÓDIGO AQUI..."
      ],
      "metadata": {
        "id": "pmJfzKWjQR0-"
      },
      "execution_count": null,
      "outputs": []
    },
    {
      "cell_type": "markdown",
      "source": [
        "9- Faça um programa que imprima na tela apenas os números ímpares entre 1 e 50."
      ],
      "metadata": {
        "id": "nUAFdwiYQU9H"
      }
    },
    {
      "cell_type": "code",
      "source": [
        "# SEU CÓDIGO AQUI..."
      ],
      "metadata": {
        "id": "dttpJpn3QV73"
      },
      "execution_count": null,
      "outputs": []
    },
    {
      "cell_type": "markdown",
      "source": [
        "10- Faça um programa que receba dois números inteiros e gere os números inteiros que estão no intervalo compreendido por eles."
      ],
      "metadata": {
        "id": "XMh61ATtQaQ2"
      }
    },
    {
      "cell_type": "code",
      "source": [
        "# SEU CÓDIGO AQUI..."
      ],
      "metadata": {
        "id": "ijjW78AqQbRo"
      },
      "execution_count": null,
      "outputs": []
    },
    {
      "cell_type": "markdown",
      "source": [
        "11- Altere o programa anterior para mostrar no final a soma dos números."
      ],
      "metadata": {
        "id": "5NuReyMRQdmH"
      }
    },
    {
      "cell_type": "code",
      "source": [
        "# SEU CÓDIGO AQUI..."
      ],
      "metadata": {
        "id": "Dw3f5v0dQemp"
      },
      "execution_count": null,
      "outputs": []
    },
    {
      "cell_type": "markdown",
      "source": [
        "12- Desenvolva um gerador de tabuada, capaz de gerar a tabuada de qualquer número inteiro entre 1 a 10. O usuário deve informar de qual numero ele deseja ver a tabuada. A saída deve ser conforme o exemplo abaixo:\n",
        "\n",
        "Tabuada de 5:\n",
        "\n",
        "5 X 1 = 5\n",
        "\n",
        "5 X 2 = 10\n",
        "\n",
        "...\n",
        "\n",
        "5 X 10 = 50"
      ],
      "metadata": {
        "id": "JzSUD3yHQiRW"
      }
    },
    {
      "cell_type": "code",
      "source": [
        "# SEU CÓDIGO AQUI..."
      ],
      "metadata": {
        "id": "BFDcQCFnQnNo"
      },
      "execution_count": null,
      "outputs": []
    },
    {
      "cell_type": "markdown",
      "source": [
        "13- Faça um programa que peça dois números, base e expoente, calcule e mostre o primeiro número elevado ao segundo número. Não utilize a função de potência da linguagem."
      ],
      "metadata": {
        "id": "-LI5xyBNQqq-"
      }
    },
    {
      "cell_type": "code",
      "source": [
        "# SEU CÓDIGO AQUI..."
      ],
      "metadata": {
        "id": "vzAyk0HrQrxn"
      },
      "execution_count": null,
      "outputs": []
    },
    {
      "cell_type": "markdown",
      "source": [
        "14- Faça um programa que peça 10 números inteiros, calcule e mostre a quantidade de números pares e a quantidade de números ímpares."
      ],
      "metadata": {
        "id": "1S9PEwRLQuEm"
      }
    },
    {
      "cell_type": "code",
      "source": [
        "# SEU CÓDIGO AQUI..."
      ],
      "metadata": {
        "id": "QUkfEm9CQvWa"
      },
      "execution_count": null,
      "outputs": []
    },
    {
      "cell_type": "markdown",
      "source": [
        "15- A série de Fibonacci é formada pela sequência 1,1,2,3,5,8,13,21,34,55,... Faça um programa capaz de gerar a série até o n−ésimo termo."
      ],
      "metadata": {
        "id": "jivgY60PQxeX"
      }
    },
    {
      "cell_type": "code",
      "source": [
        "# SEU CÓDIGO AQUI..."
      ],
      "metadata": {
        "id": "a31HxmdsQyUU"
      },
      "execution_count": null,
      "outputs": []
    }
  ]
}